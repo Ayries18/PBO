{
  "nbformat": 4,
  "nbformat_minor": 0,
  "metadata": {
    "colab": {
      "provenance": [],
      "authorship_tag": "ABX9TyNpU4hUBKtIoAkSM9JJtqbB",
      "include_colab_link": true
    },
    "kernelspec": {
      "name": "python3",
      "display_name": "Python 3"
    },
    "language_info": {
      "name": "python"
    }
  },
  "cells": [
    {
      "cell_type": "markdown",
      "metadata": {
        "id": "view-in-github",
        "colab_type": "text"
      },
      "source": [
        "<a href=\"https://colab.research.google.com/github/Ayries18/PBO/blob/main/Tugas%202.ipynb\" target=\"_parent\"><img src=\"https://colab.research.google.com/assets/colab-badge.svg\" alt=\"Open In Colab\"/></a>"
      ]
    },
    {
      "cell_type": "markdown",
      "source": [
        "Kelas mahasiswa"
      ],
      "metadata": {
        "id": "oYFj0QYJKYJE"
      }
    },
    {
      "cell_type": "code",
      "execution_count": 1,
      "metadata": {
        "colab": {
          "base_uri": "https://localhost:8080/"
        },
        "id": "j5ErgumsJnqW",
        "outputId": "7939f569-335f-4820-f04d-c4f36d1f5ebe"
      },
      "outputs": [
        {
          "output_type": "stream",
          "name": "stdout",
          "text": [
            "Nama: Aris, NIM: 230705183\n"
          ]
        }
      ],
      "source": [
        "# mendefinisikan kelas mahasiswa\n",
        "class Mahasiswa:\n",
        "    def __init__(self):\n",
        "        self.nama = \"\"\n",
        "        self.nim = \"\"\n",
        "\n",
        "def main():\n",
        "    # membuat objek dari kelas mahasiswa\n",
        "    obj = Mahasiswa()\n",
        "\n",
        "    # mengisi nilai ke dalam atribut-atribut obj\n",
        "    obj.nama = \"Aris\"\n",
        "    obj.nim = \"230705183\"\n",
        "\n",
        "    # menampilkan informasi mahasiswa\n",
        "    print(f\"Nama: {obj.nama}, NIM: {obj.nim}\")\n",
        "\n",
        "if __name__ == '__main__':\n",
        "    main()\n"
      ]
    },
    {
      "cell_type": "markdown",
      "source": [
        "Kelas lingkaran"
      ],
      "metadata": {
        "id": "lXlvFAgPKp6G"
      }
    },
    {
      "cell_type": "code",
      "source": [
        "import math\n",
        "\n",
        "# mendefinisikan kelas lingkaran\n",
        "class Lingkaran:\n",
        "    def __init__(self):\n",
        "        self.radius = 0.0\n",
        "\n",
        "def main():\n",
        "    # membuat objek dari kelas lingkaran\n",
        "    obj = Lingkaran()\n",
        "\n",
        "    # mengisi nilai ke dalam atribut obj\n",
        "    obj.radius = 7\n",
        "\n",
        "    # menghitung luas lingkaran\n",
        "    luas = math.pi * obj.radius ** 2\n",
        "    print(f\"Luas lingkaran=%.2f\" % luas)\n",
        "\n",
        "if __name__ == '__main__':\n",
        "    main()\n"
      ],
      "metadata": {
        "colab": {
          "base_uri": "https://localhost:8080/"
        },
        "id": "TuNfS-mKKeRb",
        "outputId": "d193a593-bf23-4097-ac81-93eb9fdff610"
      },
      "execution_count": 2,
      "outputs": [
        {
          "output_type": "stream",
          "name": "stdout",
          "text": [
            "Luas lingkaran=153.94\n"
          ]
        }
      ]
    },
    {
      "cell_type": "markdown",
      "source": [
        "Kelas persegi"
      ],
      "metadata": {
        "id": "4gGVeSdJK2oA"
      }
    },
    {
      "cell_type": "code",
      "source": [
        "# mendefinisikan kelas persegi\n",
        "class Persegi:\n",
        "    def __init__(self):\n",
        "        self.sisi = 0\n",
        "\n",
        "def main():\n",
        "    # membuat objek dari kelas persegi\n",
        "    obj = Persegi()\n",
        "\n",
        "    # mengisi nilai ke dalam atribut obj\n",
        "    obj.sisi = 4\n",
        "\n",
        "    # menghitung luas persegi\n",
        "    luas = obj.sisi ** 2\n",
        "    print(f\"Luas persegi=%.2f\" % luas)\n",
        "\n",
        "if __name__ == '__main__':\n",
        "    main()\n"
      ],
      "metadata": {
        "colab": {
          "base_uri": "https://localhost:8080/"
        },
        "id": "64BBkeAqKxkn",
        "outputId": "d12a574a-5323-469c-bca2-4371460ce040"
      },
      "execution_count": 3,
      "outputs": [
        {
          "output_type": "stream",
          "name": "stdout",
          "text": [
            "Luas persegi=16.00\n"
          ]
        }
      ]
    },
    {
      "cell_type": "markdown",
      "source": [
        "Kelas mobil"
      ],
      "metadata": {
        "id": "F7O_B3f-K9xh"
      }
    },
    {
      "cell_type": "code",
      "source": [
        "# mendefinisikan kelas mobil\n",
        "class Mobil:\n",
        "    def __init__(self):\n",
        "        self.merk = \"\"\n",
        "        self.warna = \"\"\n",
        "\n",
        "def main():\n",
        "    # membuat objek dari kelas mobil\n",
        "    obj = Mobil()\n",
        "\n",
        "    # mengisi nilai ke dalam atribut obj\n",
        "    obj.merk = \"Toyota Avanza\"\n",
        "    obj.warna = \"Hitam\"\n",
        "\n",
        "    # menampilkan informasi mobil\n",
        "    print(f\"Mobil {obj.merk} berwarna {obj.warna} telah dinyalakan.\")\n",
        "\n",
        "if __name__ == '__main__':\n",
        "    main()\n"
      ],
      "metadata": {
        "colab": {
          "base_uri": "https://localhost:8080/"
        },
        "id": "Ma-bu3k-K6G8",
        "outputId": "12ce170b-1c39-4fad-c94c-6b5619eee534"
      },
      "execution_count": 4,
      "outputs": [
        {
          "output_type": "stream",
          "name": "stdout",
          "text": [
            "Mobil Toyota Avanza berwarna Hitam telah dinyalakan.\n"
          ]
        }
      ]
    },
    {
      "cell_type": "markdown",
      "source": [
        "Kelas segitiga"
      ],
      "metadata": {
        "id": "q5i_TehELG9d"
      }
    },
    {
      "cell_type": "code",
      "source": [
        "# mendefinisikan kelas segitiga\n",
        "class Segitiga:\n",
        "    def __init__(self):\n",
        "        self.alas = 0.0\n",
        "        self.tinggi = 0.0\n",
        "\n",
        "def main():\n",
        "    # membuat objek dari kelas segitiga\n",
        "    obj = Segitiga()\n",
        "\n",
        "    # mengisi nilai ke dalam atribut-atribut obj\n",
        "    obj.alas = 5\n",
        "    obj.tinggi = 3\n",
        "\n",
        "    # menggunakan atribut untuk perhitungan\n",
        "    luas = 0.5 * obj.alas * obj.tinggi\n",
        "    print('Luas segitiga=%.2f' % luas)\n",
        "\n",
        "if __name__ == '__main__':\n",
        "    main()\n"
      ],
      "metadata": {
        "colab": {
          "base_uri": "https://localhost:8080/"
        },
        "id": "Bgxv72ZsLEzd",
        "outputId": "8a080dde-2d4b-4f42-b0c1-e057fba85728"
      },
      "execution_count": 5,
      "outputs": [
        {
          "output_type": "stream",
          "name": "stdout",
          "text": [
            "Luas segitiga=7.50\n"
          ]
        }
      ]
    }
  ]
}